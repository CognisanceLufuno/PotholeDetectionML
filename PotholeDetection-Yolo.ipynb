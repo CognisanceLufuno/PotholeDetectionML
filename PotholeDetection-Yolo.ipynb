{
 "cells": [
  {
   "cell_type": "code",
   "execution_count": null,
   "id": "53f1e86b-01ac-4b89-bff4-e1a4e54e2661",
   "metadata": {},
   "outputs": [],
   "source": [
    "import pandas as pd\n",
    "import os\n",
    "import glob\n",
    "from PIL import Image, ImageDraw\n",
    "import numpy as np\n",
    "import matplotlib.pyplot as plt\n",
    "import random\n",
    "from sklearn.model_selection import train_test_split\n",
    "import shutil\n",
    "import torch\n",
    "from IPython.display import Image  # for displaying images\n",
    "import os \n",
    "import random\n",
    "import shutil\n",
    "import PIL"
   ]
  },
  {
   "cell_type": "code",
   "execution_count": null,
   "id": "c400a328-1730-4ab4-b436-d4a34fcf8284",
   "metadata": {},
   "outputs": [],
   "source": [
    "#!git clone https://github.com/WongKinYiu/yolov7"
   ]
  },
  {
   "cell_type": "code",
   "execution_count": null,
   "id": "7c7248d1-4ffa-4bb2-8534-8e92bd4ef08f",
   "metadata": {},
   "outputs": [],
   "source": [
    "# Reading the csv file\n",
    "pothole_df = pd.read_csv('/Users/lufunomulaudzi/Downloads/TheDataset/train_df.csv')\n",
    "pothole_df.head()"
   ]
  },
  {
   "cell_type": "code",
   "execution_count": null,
   "id": "90d935ad-882b-4f64-92a6-84e145d076a4",
   "metadata": {},
   "outputs": [],
   "source": [
    "classMap = {'pothole': 0, 'nopothole': 1}"
   ]
  },
  {
   "cell_type": "code",
   "execution_count": null,
   "id": "e452d05a-4eba-4e1e-b4ab-c0d909afe37c",
   "metadata": {},
   "outputs": [],
   "source": [
    "# Create the main data folder\n",
    "#!mkdir potholeData\n",
    "# Create images and labels data folders\n",
    "#!mkdir potholeData/images\n",
    "#!mkdir potholeData/labels\n",
    "# Create train,val and test data folders for both images and labels\n",
    "#!mkdir potholeData/images/train potholeData/images/val potholeData/images/test  potholeData/labels/train potholeData/labels/val potholeData/labels/test\n"
   ]
  },
  {
   "cell_type": "code",
   "execution_count": null,
   "id": "e4b9f7f6-c9d9-42df-b5eb-48808ce738e3",
   "metadata": {},
   "outputs": [],
   "source": [
    "# Creating the list of images from the excel sheet\n",
    "imgs = pothole_df['image_id'].unique().tolist()\n",
    "# Loop through each of the image\n",
    "for img in imgs:\n",
    "    boundingDetails = []\n",
    "    # First get the bounding box information for a particular image from the excel sheet\n",
    "    boundingInfo = pothole_df.loc[pothole_df.image_id == img,:]\n",
    "    # Loop through each row of the details\n",
    "    for idx, row in boundingInfo.iterrows():\n",
    "        # Get the class Id for the row\n",
    "        class_id = 'pothole' if row[\"num_potholes\"] > 0 else 'nopothole'\n",
    "        # Convert the bounding box info into the format for YOLOV7\n",
    "        # Get the width\n",
    "        bb_width = row['w']\n",
    "        # Get the height\n",
    "        bb_height = row['h']\n",
    "        # Get the centre coordinates\n",
    "        bb_xcentre = (row['x'] + (row['x'] + row['w']))/2\n",
    "        bb_ycentre = (row['y'] + (row['y'] + row['h']))/2\n",
    "        # Normalise the coordinates by diving by width and height\n",
    "        bb_xcentre /= row['w'] \n",
    "        bb_ycentre /= row['h'] \n",
    "        bb_width    /= row['w'] \n",
    "        bb_height   /= row['h']  \n",
    "        # Append details in the list \n",
    "        boundingDetails.append(\"{} {:.3f} {:.3f} {:.3f} {:.3f}\".format(class_id, bb_xcentre, bb_ycentre, bb_width, bb_height))\n",
    "    # Create the file name to save this info     \n",
    "    file_name = os.path.join(\"potholeData/labels\", img.split(\".\")[0] + \".txt\")\n",
    "    # Save the annotation to disk\n",
    "    print(\"\\n\".join(boundingDetails), file= open(file_name, \"w\"))"
   ]
  },
  {
   "cell_type": "code",
   "execution_count": null,
   "id": "6e27c259-b471-47e3-87db-19ece9b7d0ba",
   "metadata": {},
   "outputs": [],
   "source": [
    "# Get the list of all annotations\n",
    "annotations = glob.glob('potholeData/labels' + '/*.txt')\n",
    "annotations"
   ]
  },
  {
   "cell_type": "code",
   "execution_count": null,
   "id": "0ea59eeb-6fe0-4f01-b479-1d2ee2e17ffd",
   "metadata": {},
   "outputs": [],
   "source": [
    "# Get the list of images from its folder\n",
    "imagePath = '/Users/lufunomulaudzi/Downloads/TheDataset/Images'\n",
    "images = glob.glob(imagePath + '/*.JPG')\n",
    "images"
   ]
  },
  {
   "cell_type": "code",
   "execution_count": null,
   "id": "8cb5c0c4-79d1-45df-bd2b-524edccf6f54",
   "metadata": {},
   "outputs": [],
   "source": [
    "# Sort the annotations and images and the prepare the train ,test and validation sets\n",
    "images.sort()\n",
    "annotations.sort()\n",
    "\n",
    "print(len(images))\n",
    "print(len(annotations))\n",
    " \n",
    "# Split the dataset into train-valid-test splits \n",
    "train_images, val_images, train_annotations, val_annotations = train_test_split(images, annotations, test_size = 0.2, random_state = 123)\n",
    "val_images, test_images, val_annotations, test_annotations = train_test_split(val_images, val_annotations, test_size = 0.5, random_state = 123)\n"
   ]
  },
  {
   "cell_type": "code",
   "execution_count": null,
   "id": "eb175c8b-8b67-4727-a6de-47051e70faaa",
   "metadata": {},
   "outputs": [],
   "source": [
    "#Utility function to copy images to destination folder\n",
    "def move_files_to_folder(list_of_files, destination_folder):\n",
    "    for f in list_of_files:\n",
    "        try:\n",
    "            shutil.copy(f, destination_folder)\n",
    "        except:\n",
    "            print(f)\n",
    "            assert False"
   ]
  },
  {
   "cell_type": "code",
   "execution_count": null,
   "id": "41f5cd8d-f384-416e-93ee-bf89f6c46517",
   "metadata": {},
   "outputs": [],
   "source": [
    "# Copy the splits into the respective folders\n",
    "move_files_to_folder(train_images, 'potholeData/images/train')\n",
    "move_files_to_folder(val_images, 'potholeData/images/val/')\n",
    "move_files_to_folder(test_images, 'potholeData/images/test/')\n",
    "move_files_to_folder(train_annotations, 'potholeData/labels/train/')\n",
    "move_files_to_folder(val_annotations, 'potholeData/labels/val/')\n",
    "move_files_to_folder(test_annotations, 'potholeData/labels/test/')\n"
   ]
  },
  {
   "cell_type": "code",
   "execution_count": 20,
   "id": "dd39a3c7-9603-4661-ba88-16f1e634e2e3",
   "metadata": {},
   "outputs": [
    {
     "name": "stdout",
     "output_type": "stream",
     "text": [
      "YOLOR 🚀 v0.1-121-g2fdc7f1 torch 1.13.1 CPU\n",
      "\n",
      "Namespace(weights='yolov7m.pt', cfg='./yolov7/cfg/training/yolov7.yaml', data='potholeData.yaml', hyp='./yolov7/data/hyp.scratch.p6.yaml', epochs=500, batch_size=4, img_size=[640, 640], rect=False, resume=False, nosave=False, notest=False, noautoanchor=False, evolve=False, bucket='', cache_images=False, image_weights=False, device='', multi_scale=False, single_cls=False, adam=False, sync_bn=False, local_rank=-1, workers=4, project='runs/train', entity=None, name='yolo_pothole_det_m', exist_ok=False, quad=False, linear_lr=False, label_smoothing=0.0, upload_dataset=False, bbox_interval=-1, save_period=-1, artifact_alias='latest', freeze=[0], v5_metric=False, world_size=1, global_rank=-1, save_dir='runs/train/yolo_pothole_det_m', total_batch_size=4)\n",
      "\u001b[34m\u001b[1mtensorboard: \u001b[0mStart with 'tensorboard --logdir runs/train', view at http://localhost:6006/\n",
      "\u001b[34m\u001b[1mhyperparameters: \u001b[0mlr0=0.01, lrf=0.2, momentum=0.937, weight_decay=0.0005, warmup_epochs=3.0, warmup_momentum=0.8, warmup_bias_lr=0.1, box=0.05, cls=0.3, cls_pw=1.0, obj=0.7, obj_pw=1.0, iou_t=0.2, anchor_t=4.0, fl_gamma=0.0, hsv_h=0.015, hsv_s=0.7, hsv_v=0.4, degrees=0.0, translate=0.2, scale=0.9, shear=0.0, perspective=0.0, flipud=0.0, fliplr=0.5, mosaic=1.0, mixup=0.15, copy_paste=0.0, paste_in=0.15, loss_ota=1\n",
      "\u001b[34m\u001b[1mwandb: \u001b[0mInstall Weights & Biases for YOLOR logging with 'pip install wandb' (recommended)\n",
      "fatal: not a git repository (or any of the parent directories): .git\n",
      "Traceback (most recent call last):\n",
      "  File \"/Users/lufunomulaudzi/workspace/PotholeDetection/yolov7/utils/google_utils.py\", line 26, in attempt_download\n",
      "    assets = [x['name'] for x in response['assets']]  # release assets\n",
      "KeyError: 'assets'\n",
      "\n",
      "During handling of the above exception, another exception occurred:\n",
      "\n",
      "Traceback (most recent call last):\n",
      "  File \"/Users/lufunomulaudzi/workspace/PotholeDetection/yolov7/train.py\", line 616, in <module>\n",
      "    train(hyp, opt, device, tb_writer)\n",
      "  File \"/Users/lufunomulaudzi/workspace/PotholeDetection/yolov7/train.py\", line 86, in train\n",
      "    attempt_download(weights)  # download if not found locally\n",
      "  File \"/Users/lufunomulaudzi/workspace/PotholeDetection/yolov7/utils/google_utils.py\", line 31, in attempt_download\n",
      "    tag = subprocess.check_output('git tag', shell=True).decode().split()[-1]\n",
      "  File \"/opt/homebrew/Cellar/python@3.9/3.9.16/Frameworks/Python.framework/Versions/3.9/lib/python3.9/subprocess.py\", line 424, in check_output\n",
      "    return run(*popenargs, stdout=PIPE, timeout=timeout, check=True,\n",
      "  File \"/opt/homebrew/Cellar/python@3.9/3.9.16/Frameworks/Python.framework/Versions/3.9/lib/python3.9/subprocess.py\", line 528, in run\n",
      "    raise CalledProcessError(retcode, process.args,\n",
      "subprocess.CalledProcessError: Command 'git tag' returned non-zero exit status 128.\n"
     ]
    }
   ],
   "source": [
    "!python yolov7/train.py --img 640 --cfg './yolov7/cfg/training/yolov7.yaml' --hyp data/hyp.scratch.p6.yaml --batch 4 --epochs 500 --data potholeData.yaml --weights yolov7m.pt --workers 4 --name yolo_pothole_det_m"
   ]
  },
  {
   "cell_type": "code",
   "execution_count": null,
   "id": "146d39cf-e0e9-48b5-8b12-ad8a1b9d8f7d",
   "metadata": {},
   "outputs": [],
   "source": []
  }
 ],
 "metadata": {
  "kernelspec": {
   "display_name": "Python 3 (ipykernel)",
   "language": "python",
   "name": "python3"
  },
  "language_info": {
   "codemirror_mode": {
    "name": "ipython",
    "version": 3
   },
   "file_extension": ".py",
   "mimetype": "text/x-python",
   "name": "python",
   "nbconvert_exporter": "python",
   "pygments_lexer": "ipython3",
   "version": "3.9.16"
  }
 },
 "nbformat": 4,
 "nbformat_minor": 5
}
